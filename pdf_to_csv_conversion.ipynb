{
 "cells": [
  {
   "cell_type": "code",
   "execution_count": 6,
   "metadata": {},
   "outputs": [],
   "source": [
    "import pandas as pd\n",
    "import PyPDF2\n",
    "import fitz  # PyMuPDF\n",
    "import re"
   ]
  },
  {
   "cell_type": "code",
   "execution_count": 90,
   "metadata": {},
   "outputs": [],
   "source": [
    "def get_text_from_questions(pdf_path, csv_path):\n",
    "  # Open the PDF file\n",
    "#   pdf_path = \"data/edu-exam-p-sample-quest.pdf\"\n",
    "  doc = fitz.open(pdf_path)\n",
    "\n",
    "  # Extract text starting from the second page\n",
    "  text_content = \"\"\n",
    "  for page_num in range(1, len(doc)):  # Skipping the first page (page_num starts from 0)\n",
    "      text_content += doc.load_page(page_num).get_text()\n",
    "\n",
    "  # Regex pattern to match question number, question, and multiple-choice answers\n",
    "  pattern = r\"(\\d+)\\.\\s+(.+?)(?=\\(A\\))\\(A\\)\\s*(.+?)\\s*\\(B\\)\\s*(.+?)\\s*\\(C\\)\\s*(.+?)\\s*\\(D\\)\\s*(.+?)\\s*\\(E\\)\\s*(.+?)(?=\\d+\\.\\s|$)\"\n",
    "  matches = re.findall(pattern, text_content, re.DOTALL)\n",
    "\n",
    "  # Organize the extracted data and clean Choice E of newline characters\n",
    "  data = []\n",
    "  for match in matches:\n",
    "      question_number = match[0]\n",
    "      question_text = match[1].strip()\n",
    "      # choices = [choice.replace(\" \\n\", \"\") for choice in match[2:]]\n",
    "      choices = [choice.split(\" \")[0] for choice in match[2:]]\n",
    "      data.append([question_number, question_text] + choices)\n",
    "\n",
    "  # Create DataFrame\n",
    "  columns = [\"Question Number\", \"Question\", \"Choice A\", \"Choice B\", \"Choice C\", \"Choice D\", \"Choice E\"]\n",
    "  df_questions = pd.DataFrame(data, columns=columns)\n",
    "\n",
    "  # Save the DataFrame to a CSV file\n",
    "#   csv_path = \"data/cleaned_exam_questions.csv\"\n",
    "  df_questions.to_csv(csv_path, index=False)\n",
    "\n",
    "  return df_questions\n",
    "\n",
    "\n",
    "def get_text_from_answers(pdf_path, csv_path):\n",
    "    # Open the PDF file\n",
    "    with open(pdf_path, \"rb\") as pdf_file:\n",
    "        pdf_reader = PyPDF2.PdfReader(pdf_file)\n",
    "        \n",
    "        # Extract text from each page\n",
    "        text = \"\"\n",
    "        for page in pdf_reader.pages:\n",
    "            text += page.extract_text()\n",
    "\n",
    "    # Regular expression to find question numbers and answers\n",
    "    pattern = r\"(\\d+)\\.\\s*Solution:\\s*([A-E])\"\n",
    "    matches = re.findall(pattern, text)\n",
    "\n",
    "    # Create a DataFrame from the matches\n",
    "    df = pd.DataFrame(matches, columns=[\"Question Number\", \"Answer\"])\n",
    "\n",
    "    # Save the DataFrame to a CSV file\n",
    "    # csv_path = \"data/exam-p-answers.csv\"\n",
    "    df.to_csv(csv_path, index=False)\n",
    "\n",
    "    return df"
   ]
  },
  {
   "cell_type": "code",
   "execution_count": 92,
   "metadata": {},
   "outputs": [],
   "source": [
    "if __name__ == \"__main__\":\n",
    "    df_questions = get_text_from_questions(\"data/edu-exam-p-sample-quest.pdf\", \"data/exam-p-questions.csv\")\n",
    "    df_answers = get_text_from_answers(\"data/edu-exam-p-sample-sol.pdf\", \"data/exam-p-answers.csv\")"
   ]
  },
  {
   "cell_type": "markdown",
   "metadata": {},
   "source": [
    "### ...END"
   ]
  }
 ],
 "metadata": {
  "kernelspec": {
   "display_name": ".venv",
   "language": "python",
   "name": "python3"
  },
  "language_info": {
   "codemirror_mode": {
    "name": "ipython",
    "version": 3
   },
   "file_extension": ".py",
   "mimetype": "text/x-python",
   "name": "python",
   "nbconvert_exporter": "python",
   "pygments_lexer": "ipython3",
   "version": "3.10.4"
  }
 },
 "nbformat": 4,
 "nbformat_minor": 2
}
